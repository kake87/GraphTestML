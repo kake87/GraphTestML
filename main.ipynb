{
 "cells": [
  {
   "attachments": {},
   "cell_type": "markdown",
   "metadata": {},
   "source": [
    "<h1 style=\"text-align: center\">Тестовое задание по графовым базам данных</h1>\n",
    "\n",
    "1) Установить 2 графовые базы из списка \n",
    "\n",
    "    Предпочтительные - neo4j, nebula, arangodb\n",
    "    Предпочтительный язык запросов cypher\n",
    "\n",
    "2) Создать ipynb ноутбук в котором:\n",
    "3) Считать данные из источника https://docs.yandex.ru/docs/view?url=ya-disk-public%3A%2F%2FUgFAtb%2FEhHr%2BXAD9459IU56xcdad4cPrFCfTNup7PdJqr4sHmC%2FKML8Kb%2Byd3609q%2FJ6bpmRyOJonT3VoXnDag%3D%3D%3A%2Fdata_test.csv&name=data_test.csv\n",
    "4) Внести данные из таблицы в графовую БД\n",
    "5) Построить графовое представление в БД, осуществить несколько запросов на языке запросов к графовой БД\n",
    "6) Найти взаимосвязи визуально и с помощью алгоритмов (алгоритмы на ваше усмотрение)\n",
    "7) Написать rest сервис на python к графовой БД в котором на вход поступает ФИО, на выходе graphml или json\n",
    "8) Результаты представить на гитхаб и в виде кода + небольшой презентации\n",
    "9) Прислать ссылку на решение и резюме в телеграм @frankshikhaliev\n",
    "10) Также надо будет заполнить форму\n",
    "\n",
    "    Срок выполнения задания - около 10 дней, если вы не успеваете можете взять больше времени\n",
    "\n",
    "<hr>\n",
    "\n"
   ]
  },
  {
   "cell_type": "code",
   "execution_count": 1,
   "metadata": {},
   "outputs": [],
   "source": [
    "import pandas as pd\n",
    "from py2neo import Graph"
   ]
  },
  {
   "attachments": {},
   "cell_type": "markdown",
   "metadata": {},
   "source": [
    "1. Используемая СУБД: neo4j. Управление СУБД осуществляется через библиотеку py2neo\n",
    "2. Ноутбук создан на базе Jupyter Notebook. Я использовал расширение для vscode. Однако представление этого ноутбука можно вывести и через браузер\n",
    "3. Данные из csv были скачаны и помещены в локальное хранилище. На этом этапе постановка задачи предполагает несколько решений: \n",
    "    1) скачать файл \n",
    "    2) обратиться через метод read_csv библиотеки pandas \n",
    "    3) использовать команду на языке запросов Cypher: LOAD CSV FROM и подобные конструкции. \n",
    "    \n",
    "    Я выбрал первый путь.\n"
   ]
  },
  {
   "cell_type": "code",
   "execution_count": 2,
   "metadata": {},
   "outputs": [],
   "source": [
    "df = pd.read_csv('data_test.csv', delimiter=';') # Считываем csv файл, в качестве разделителя используем точку с запятой"
   ]
  },
  {
   "cell_type": "code",
   "execution_count": 3,
   "metadata": {},
   "outputs": [],
   "source": [
    "graph = Graph(\"http://localhost:7474/db/data/\", user=\"neo4j\", password=\"31337\") # Подключение к БД neo4j\n",
    "graph.delete_all() # Превентивно очищаем БД. Данная конструкция скорее для подстраховки при неоднократном запуске"
   ]
  },
  {
   "attachments": {},
   "cell_type": "markdown",
   "metadata": {},
   "source": [
    "4. Запись данных в БД происходит ниже. Механизм такой: данные были трансформированы в список, который содержит три элемента id, ФИО первого участника, ФИО второго участника. Необходимо построчно извлечь каждый столбец с данными. Запись можно было бы сделать двумя путями: \n",
    "    1) через экземпляр классов Node, Relationship \n",
    "    2) С использованием синтаксиса языка запросов Cypher\n",
    "\n",
    "Я выбрал второй вариант, поскольку в задании упор делается на Cypher\n",
    "Конструкция запроса следующая: команда MERGE отвечает за слияние элементов, создаются переменные, p1 и p2, ярлык переменных - Person, переменные включает в себя имена ФИО первого и второго участника\n",
    "\n",
    "Далее происходит установление взаимосвязи (изначально планировалось установить в качестве ярлыка связи id, но это вызывает ошибку)\n",
    "\n",
    "Последней командой мы передаем наш запрос в базу."
   ]
  },
  {
   "cell_type": "code",
   "execution_count": 4,
   "metadata": {},
   "outputs": [],
   "source": [
    "data_list = df.values.tolist()\n",
    "\n",
    "for record in data_list:\n",
    "    persons_relationship = str(record[0])\n",
    "    person1 = record[1] \n",
    "    person2 = record[2]\n",
    "    query = \"MERGE (p1:Person {name: '\" + person1 + \"'}) MERGE (p2:Person {name: '\" + person2 + \"'}) MERGE (p1)-[:CONNECTED]->(p2)\"\n",
    "    graph.run(query)\n"
   ]
  },
  {
   "attachments": {},
   "cell_type": "markdown",
   "metadata": {},
   "source": [
    "<h3></h3>"
   ]
  },
  {
   "attachments": {},
   "cell_type": "markdown",
   "metadata": {},
   "source": [
    "5. Итак, графовое представление создано, мы можем убедится в этом либо перейдя в браузере по адресу:\n",
    "http://localhost:7474/browser/ \n",
    "\n",
    "https://imgur.com/a/cD0Dq54\n",
    "\n",
    "\n",
    "либо делая запросы в ноутбуке\n",
    "\n",
    "\n",
    "\n",
    "\n",
    "5.1 Далее показана реализация нескольких запросов "
   ]
  },
  {
   "cell_type": "code",
   "execution_count": 5,
   "metadata": {},
   "outputs": [
    {
     "data": {
      "text/html": [
       "<table><tr><th>n.person</th></tr><tr><td style=\"text-align:right\">null</td></tr><tr><td style=\"text-align:right\">null</td></tr><tr><td style=\"text-align:right\">null</td></tr></table>"
      ],
      "text/plain": [
       " n.name \n",
       "----------\n",
       "     name \n",
       "     name \n",
       "     name "
      ]
     },
     "execution_count": 5,
     "metadata": {},
     "output_type": "execute_result"
    }
   ],
   "source": [
    "graph.run('MATCH (n:Person) RETURN n.person LIMIT 250') # Вывод списка имен"
   ]
  },
  {
   "cell_type": "code",
   "execution_count": 6,
   "metadata": {},
   "outputs": [
    {
     "data": {
      "text/html": [
       "<table><tr><th>p.name</th><th>rel_count</th></tr><tr><td style=\"text-align:left\">Ахромеева Алина Ивановна</td><td style=\"text-align:right\">50</td></tr><tr><td style=\"text-align:left\">Башнина Антонина Глебовна</td><td style=\"text-align:right\">14</td></tr><tr><td style=\"text-align:left\">Медведева Дарья Алексеевна</td><td style=\"text-align:right\">6</td></tr></table>"
      ],
      "text/plain": [
       " p.name                     | rel_count \n",
       "----------------------------|-----------\n",
       " Ахромеева Алина Ивановна   |        50 \n",
       " Башнина Антонина Глебовна  |        14 \n",
       " Медведева Дарья Алексеевна |         6 "
      ]
     },
     "execution_count": 6,
     "metadata": {},
     "output_type": "execute_result"
    }
   ],
   "source": [
    "graph.run('MATCH (p:Person) WITH p, size((p)--()) as rel_count WHERE rel_count > 1  RETURN p.name,rel_count LIMIT 10000') # Вывод нод имеющих более одной связи"
   ]
  },
  {
   "cell_type": "code",
   "execution_count": 7,
   "metadata": {},
   "outputs": [
    {
     "data": {
      "text/html": [
       "<table><tr><th>n.name</th></tr><tr><td style=\"text-align:left\">Сероштанов Александр Евгеньевич</td></tr><tr><td style=\"text-align:left\">Дальский Александр Егорович</td></tr><tr><td style=\"text-align:left\">Крюковский Александр Олегович</td></tr></table>"
      ],
      "text/plain": [
       " n.name                          \n",
       "---------------------------------\n",
       " Сероштанов Александр Евгеньевич \n",
       " Дальский Александр Егорович     \n",
       " Крюковский Александр Олегович   "
      ]
     },
     "execution_count": 7,
     "metadata": {},
     "output_type": "execute_result"
    }
   ],
   "source": [
    "graph.run(\"MATCH (n:Person) WHERE n.name CONTAINS ' Александр '  RETURN n.name\") # Поиск по регулярным выражением"
   ]
  },
  {
   "attachments": {},
   "cell_type": "markdown",
   "metadata": {},
   "source": [
    "6. Анализируя датасет методом df.count() можно заметить что количество строк равно 5000\n",
    "При этом около 70 значений в первом списке людей, и 6 значений во втором списке людей являются дубликатами, то есть повторяющимися. Это означает что одно человек может иметь взаимосвязь с несколькими людьми.\n",
    "\n",
    "При добавлении в базу визуально и в целом этого не видно, поскольку цепочка человек-человек разбивается попарно, но в то же время согласно условиям задачи необходимо вычленить их. В целом вычленения одного элемента имеющего несколько связей уже было реализовано на одном из тестовых запросов выше.\n",
    "Однако нам необходимо промаркировать эту выборку. Для чего был использован инструмент SET и был установлен красный цвет (в отличии от дефолтного зелёного).\n",
    "\n",
    "https://imgur.com/a/4iYPeqR"
   ]
  },
  {
   "cell_type": "code",
   "execution_count": 8,
   "metadata": {},
   "outputs": [
    {
     "data": {
      "text/plain": [
       "id события                 5000\n",
       "ФИО участника события 1    5000\n",
       "ФИО участника события 2    5000\n",
       "dtype: int64"
      ]
     },
     "execution_count": 8,
     "metadata": {},
     "output_type": "execute_result"
    }
   ],
   "source": [
    "df.count()"
   ]
  },
  {
   "cell_type": "code",
   "execution_count": 9,
   "metadata": {},
   "outputs": [
    {
     "data": {
      "text/plain": [
       "(False    4930\n",
       " True       70\n",
       " Name: ФИО участника события 1, dtype: int64,\n",
       " False    4994\n",
       " True        6\n",
       " Name: ФИО участника события 2, dtype: int64)"
      ]
     },
     "execution_count": 9,
     "metadata": {},
     "output_type": "execute_result"
    }
   ],
   "source": [
    "df['ФИО участника события 1'].duplicated().value_counts(), df['ФИО участника события 2'].duplicated().value_counts()"
   ]
  },
  {
   "cell_type": "code",
   "execution_count": 10,
   "metadata": {},
   "outputs": [
    {
     "data": {
      "text/html": [
       "(No data)"
      ],
      "text/plain": [
       "(No data)"
      ]
     },
     "execution_count": 10,
     "metadata": {},
     "output_type": "execute_result"
    }
   ],
   "source": [
    "query = \"MATCH (p:Person) WITH p, size((p)--()) as rel_count WHERE rel_count > 1 SET p:RedPerson\"\n",
    "graph.run(query)"
   ]
  }
 ],
 "metadata": {
  "kernelspec": {
   "display_name": "Python 3",
   "language": "python",
   "name": "python3"
  },
  "language_info": {
   "codemirror_mode": {
    "name": "ipython",
    "version": 3
   },
   "file_extension": ".py",
   "mimetype": "text/x-python",
   "name": "python",
   "nbconvert_exporter": "python",
   "pygments_lexer": "ipython3",
   "version": "3.10.6"
  },
  "orig_nbformat": 4,
  "vscode": {
   "interpreter": {
    "hash": "916dbcbb3f70747c44a77c7bcd40155683ae19c65e1c03b4aa3499c5328201f1"
   }
  }
 },
 "nbformat": 4,
 "nbformat_minor": 2
}
